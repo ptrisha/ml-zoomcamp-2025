{
 "cells": [
  {
   "cell_type": "markdown",
   "id": "c4aafa80-59cf-43a8-a96b-1a3467c97aae",
   "metadata": {},
   "source": [
    "## Hw1"
   ]
  },
  {
   "cell_type": "code",
   "execution_count": 1,
   "id": "b561b6c7-7c61-4f56-ae33-95786384691c",
   "metadata": {},
   "outputs": [],
   "source": [
    "import pandas as pd\n",
    "import numpy as np"
   ]
  },
  {
   "cell_type": "code",
   "execution_count": 2,
   "id": "4943f29c-daa8-43e8-8075-f60efd3c95c2",
   "metadata": {},
   "outputs": [
    {
     "data": {
      "text/plain": [
       "'2.3.1'"
      ]
     },
     "execution_count": 2,
     "metadata": {},
     "output_type": "execute_result"
    }
   ],
   "source": [
    "pd.__version__"
   ]
  },
  {
   "cell_type": "code",
   "execution_count": 3,
   "id": "1f69665b-98b6-44c7-9925-d949dae74f58",
   "metadata": {},
   "outputs": [],
   "source": [
    "df = pd.read_csv('https://raw.githubusercontent.com/alexeygrigorev/datasets/master/car_fuel_efficiency.csv')"
   ]
  },
  {
   "cell_type": "code",
   "execution_count": 4,
   "id": "60ae98a3-491f-4351-8813-90735388e713",
   "metadata": {},
   "outputs": [
    {
     "data": {
      "text/html": [
       "<div>\n",
       "<style scoped>\n",
       "    .dataframe tbody tr th:only-of-type {\n",
       "        vertical-align: middle;\n",
       "    }\n",
       "\n",
       "    .dataframe tbody tr th {\n",
       "        vertical-align: top;\n",
       "    }\n",
       "\n",
       "    .dataframe thead th {\n",
       "        text-align: right;\n",
       "    }\n",
       "</style>\n",
       "<table border=\"1\" class=\"dataframe\">\n",
       "  <thead>\n",
       "    <tr style=\"text-align: right;\">\n",
       "      <th></th>\n",
       "      <th>engine_displacement</th>\n",
       "      <th>num_cylinders</th>\n",
       "      <th>horsepower</th>\n",
       "      <th>vehicle_weight</th>\n",
       "      <th>acceleration</th>\n",
       "      <th>model_year</th>\n",
       "      <th>origin</th>\n",
       "      <th>fuel_type</th>\n",
       "      <th>drivetrain</th>\n",
       "      <th>num_doors</th>\n",
       "      <th>fuel_efficiency_mpg</th>\n",
       "    </tr>\n",
       "  </thead>\n",
       "  <tbody>\n",
       "    <tr>\n",
       "      <th>0</th>\n",
       "      <td>170</td>\n",
       "      <td>3.0</td>\n",
       "      <td>159.0</td>\n",
       "      <td>3413.433759</td>\n",
       "      <td>17.7</td>\n",
       "      <td>2003</td>\n",
       "      <td>Europe</td>\n",
       "      <td>Gasoline</td>\n",
       "      <td>All-wheel drive</td>\n",
       "      <td>0.0</td>\n",
       "      <td>13.231729</td>\n",
       "    </tr>\n",
       "    <tr>\n",
       "      <th>1</th>\n",
       "      <td>130</td>\n",
       "      <td>5.0</td>\n",
       "      <td>97.0</td>\n",
       "      <td>3149.664934</td>\n",
       "      <td>17.8</td>\n",
       "      <td>2007</td>\n",
       "      <td>USA</td>\n",
       "      <td>Gasoline</td>\n",
       "      <td>Front-wheel drive</td>\n",
       "      <td>0.0</td>\n",
       "      <td>13.688217</td>\n",
       "    </tr>\n",
       "    <tr>\n",
       "      <th>2</th>\n",
       "      <td>170</td>\n",
       "      <td>NaN</td>\n",
       "      <td>78.0</td>\n",
       "      <td>3079.038997</td>\n",
       "      <td>15.1</td>\n",
       "      <td>2018</td>\n",
       "      <td>Europe</td>\n",
       "      <td>Gasoline</td>\n",
       "      <td>Front-wheel drive</td>\n",
       "      <td>0.0</td>\n",
       "      <td>14.246341</td>\n",
       "    </tr>\n",
       "    <tr>\n",
       "      <th>3</th>\n",
       "      <td>220</td>\n",
       "      <td>4.0</td>\n",
       "      <td>NaN</td>\n",
       "      <td>2542.392402</td>\n",
       "      <td>20.2</td>\n",
       "      <td>2009</td>\n",
       "      <td>USA</td>\n",
       "      <td>Diesel</td>\n",
       "      <td>All-wheel drive</td>\n",
       "      <td>2.0</td>\n",
       "      <td>16.912736</td>\n",
       "    </tr>\n",
       "    <tr>\n",
       "      <th>4</th>\n",
       "      <td>210</td>\n",
       "      <td>1.0</td>\n",
       "      <td>140.0</td>\n",
       "      <td>3460.870990</td>\n",
       "      <td>14.4</td>\n",
       "      <td>2009</td>\n",
       "      <td>Europe</td>\n",
       "      <td>Gasoline</td>\n",
       "      <td>All-wheel drive</td>\n",
       "      <td>2.0</td>\n",
       "      <td>12.488369</td>\n",
       "    </tr>\n",
       "  </tbody>\n",
       "</table>\n",
       "</div>"
      ],
      "text/plain": [
       "   engine_displacement  num_cylinders  horsepower  vehicle_weight  \\\n",
       "0                  170            3.0       159.0     3413.433759   \n",
       "1                  130            5.0        97.0     3149.664934   \n",
       "2                  170            NaN        78.0     3079.038997   \n",
       "3                  220            4.0         NaN     2542.392402   \n",
       "4                  210            1.0       140.0     3460.870990   \n",
       "\n",
       "   acceleration  model_year  origin fuel_type         drivetrain  num_doors  \\\n",
       "0          17.7        2003  Europe  Gasoline    All-wheel drive        0.0   \n",
       "1          17.8        2007     USA  Gasoline  Front-wheel drive        0.0   \n",
       "2          15.1        2018  Europe  Gasoline  Front-wheel drive        0.0   \n",
       "3          20.2        2009     USA    Diesel    All-wheel drive        2.0   \n",
       "4          14.4        2009  Europe  Gasoline    All-wheel drive        2.0   \n",
       "\n",
       "   fuel_efficiency_mpg  \n",
       "0            13.231729  \n",
       "1            13.688217  \n",
       "2            14.246341  \n",
       "3            16.912736  \n",
       "4            12.488369  "
      ]
     },
     "execution_count": 4,
     "metadata": {},
     "output_type": "execute_result"
    }
   ],
   "source": [
    "df.head()"
   ]
  },
  {
   "cell_type": "code",
   "execution_count": 6,
   "id": "12c17af8-afa2-44c7-918d-217a6494e736",
   "metadata": {},
   "outputs": [
    {
     "name": "stdout",
     "output_type": "stream",
     "text": [
      "<class 'pandas.core.frame.DataFrame'>\n",
      "RangeIndex: 9704 entries, 0 to 9703\n",
      "Data columns (total 11 columns):\n",
      " #   Column               Non-Null Count  Dtype  \n",
      "---  ------               --------------  -----  \n",
      " 0   engine_displacement  9704 non-null   int64  \n",
      " 1   num_cylinders        9222 non-null   float64\n",
      " 2   horsepower           8996 non-null   float64\n",
      " 3   vehicle_weight       9704 non-null   float64\n",
      " 4   acceleration         8774 non-null   float64\n",
      " 5   model_year           9704 non-null   int64  \n",
      " 6   origin               9704 non-null   object \n",
      " 7   fuel_type            9704 non-null   object \n",
      " 8   drivetrain           9704 non-null   object \n",
      " 9   num_doors            9202 non-null   float64\n",
      " 10  fuel_efficiency_mpg  9704 non-null   float64\n",
      "dtypes: float64(6), int64(2), object(3)\n",
      "memory usage: 834.1+ KB\n"
     ]
    }
   ],
   "source": [
    "df.info()"
   ]
  },
  {
   "cell_type": "code",
   "execution_count": 7,
   "id": "78ac0202-2210-4cf4-b224-89545cb9db8d",
   "metadata": {},
   "outputs": [
    {
     "data": {
      "text/plain": [
       "2"
      ]
     },
     "execution_count": 7,
     "metadata": {},
     "output_type": "execute_result"
    }
   ],
   "source": [
    "df.fuel_type.nunique()"
   ]
  },
  {
   "cell_type": "code",
   "execution_count": 8,
   "id": "16b14715-3299-4e56-ba10-4e46683764ce",
   "metadata": {},
   "outputs": [
    {
     "data": {
      "text/plain": [
       "0       Gasoline\n",
       "1       Gasoline\n",
       "2       Gasoline\n",
       "3         Diesel\n",
       "4       Gasoline\n",
       "          ...   \n",
       "9699      Diesel\n",
       "9700    Gasoline\n",
       "9701      Diesel\n",
       "9702      Diesel\n",
       "9703      Diesel\n",
       "Name: fuel_type, Length: 9704, dtype: object"
      ]
     },
     "execution_count": 8,
     "metadata": {},
     "output_type": "execute_result"
    }
   ],
   "source": [
    "df.fuel_type"
   ]
  },
  {
   "cell_type": "code",
   "execution_count": 10,
   "id": "a684b479-123f-44b3-86ac-4bd1b14ed682",
   "metadata": {},
   "outputs": [
    {
     "data": {
      "text/plain": [
       "np.int64(4)"
      ]
     },
     "execution_count": 10,
     "metadata": {},
     "output_type": "execute_result"
    }
   ],
   "source": [
    "num_columns_with_missing_values = df.isna().any().sum()\n",
    "num_columns_with_missing_values"
   ]
  },
  {
   "cell_type": "code",
   "execution_count": 11,
   "id": "9407c3b8-be23-4515-a0c1-9991ff14a065",
   "metadata": {},
   "outputs": [
    {
     "data": {
      "text/plain": [
       "array(['Europe', 'USA', 'Asia'], dtype=object)"
      ]
     },
     "execution_count": 11,
     "metadata": {},
     "output_type": "execute_result"
    }
   ],
   "source": [
    "df.origin.unique()"
   ]
  },
  {
   "cell_type": "code",
   "execution_count": 15,
   "id": "fa4587fc-c56c-4ec1-8e81-ab955f33cae2",
   "metadata": {},
   "outputs": [
    {
     "data": {
      "text/plain": [
       "np.float64(23.76)"
      ]
     },
     "execution_count": 15,
     "metadata": {},
     "output_type": "execute_result"
    }
   ],
   "source": [
    "df[ df['origin']=='Asia' ].fuel_efficiency_mpg.max().round(2)"
   ]
  },
  {
   "cell_type": "code",
   "execution_count": 16,
   "id": "d7c0d9c6-ab8d-401e-b00d-da0fa5c7562a",
   "metadata": {},
   "outputs": [
    {
     "data": {
      "text/plain": [
       "np.float64(149.0)"
      ]
     },
     "execution_count": 16,
     "metadata": {},
     "output_type": "execute_result"
    }
   ],
   "source": [
    "df.horsepower.median()"
   ]
  },
  {
   "cell_type": "code",
   "execution_count": 17,
   "id": "e3d06736-fbe2-4619-9967-04cc4450279b",
   "metadata": {},
   "outputs": [
    {
     "data": {
      "text/plain": [
       "0    152.0\n",
       "Name: horsepower, dtype: float64"
      ]
     },
     "execution_count": 17,
     "metadata": {},
     "output_type": "execute_result"
    }
   ],
   "source": [
    "# the most frequent value in horsepower column\n",
    "df.horsepower.mode()"
   ]
  },
  {
   "cell_type": "code",
   "execution_count": 18,
   "id": "f01271ac-fd75-48cc-b427-94345e7b53d4",
   "metadata": {},
   "outputs": [
    {
     "data": {
      "text/plain": [
       "np.float64(149.0)"
      ]
     },
     "execution_count": 18,
     "metadata": {},
     "output_type": "execute_result"
    }
   ],
   "source": [
    "# use the fillna method to fill missing values in horsepower column with the most frequent value\n",
    "# and calculate the median again\n",
    "df.horsepower.fillna( df.horsepower.mode() ).median()"
   ]
  },
  {
   "cell_type": "code",
   "execution_count": 27,
   "id": "cb72cd1b-74d5-4bb4-b65f-8c29286c0d57",
   "metadata": {},
   "outputs": [
    {
     "data": {
      "text/plain": [
       "array([[2714.21930965, 2016.        ],\n",
       "       [2783.86897424, 2010.        ],\n",
       "       [3582.68736772, 2007.        ],\n",
       "       [2231.8081416 , 2011.        ],\n",
       "       [2659.43145076, 2016.        ],\n",
       "       [2844.22753389, 2014.        ],\n",
       "       [3761.99403819, 2019.        ]])"
      ]
     },
     "execution_count": 27,
     "metadata": {},
     "output_type": "execute_result"
    }
   ],
   "source": [
    "# Q7\n",
    "X = df[ df['origin']=='Asia' ][ ['vehicle_weight', 'model_year'] ].head(7).values\n",
    "X"
   ]
  },
  {
   "cell_type": "code",
   "execution_count": 28,
   "id": "6948fcc9-38c3-456a-ba38-6665a8761b95",
   "metadata": {},
   "outputs": [
    {
     "data": {
      "text/plain": [
       "array([[62248334.33150762, 41431216.5073268 ],\n",
       "       [41431216.5073268 , 28373339.        ]])"
      ]
     },
     "execution_count": 28,
     "metadata": {},
     "output_type": "execute_result"
    }
   ],
   "source": [
    "XTX = np.dot(X.T, X)\n",
    "XTX"
   ]
  },
  {
   "cell_type": "code",
   "execution_count": 29,
   "id": "6a7b303b-1e0a-4e2b-8c7b-7e6c6d885312",
   "metadata": {},
   "outputs": [
    {
     "data": {
      "text/plain": [
       "array([[ 5.71497081e-07, -8.34509443e-07],\n",
       "       [-8.34509443e-07,  1.25380877e-06]])"
      ]
     },
     "execution_count": 29,
     "metadata": {},
     "output_type": "execute_result"
    }
   ],
   "source": [
    "XTX_inv = np.linalg.inv(XTX)\n",
    "XTX_inv"
   ]
  },
  {
   "cell_type": "code",
   "execution_count": 30,
   "id": "940b3011-d91e-4e08-90c8-0832a8c58c0d",
   "metadata": {},
   "outputs": [],
   "source": [
    "y = np.array([1100, 1300, 800, 900, 1000, 1100, 1200])"
   ]
  },
  {
   "cell_type": "code",
   "execution_count": 31,
   "id": "fe17dd5d-d9b6-499d-811c-3fa1ee496766",
   "metadata": {},
   "outputs": [
    {
     "data": {
      "text/plain": [
       "array([0.01386421, 0.5049067 ])"
      ]
     },
     "execution_count": 31,
     "metadata": {},
     "output_type": "execute_result"
    }
   ],
   "source": [
    "# multiply the inv of XTX with the transpose of X, and then multiply the result by y\n",
    "w = np.dot( np.dot( XTX_inv, X.T), y)\n",
    "w"
   ]
  },
  {
   "cell_type": "code",
   "execution_count": 32,
   "id": "7d3bc174-d416-413d-a086-692611d61e71",
   "metadata": {},
   "outputs": [
    {
     "data": {
      "text/plain": [
       "np.float64(0.5187709081074016)"
      ]
     },
     "execution_count": 32,
     "metadata": {},
     "output_type": "execute_result"
    }
   ],
   "source": [
    "w.sum()"
   ]
  },
  {
   "cell_type": "code",
   "execution_count": null,
   "id": "873d6b5d-7150-4140-ae7b-350820716030",
   "metadata": {},
   "outputs": [],
   "source": []
  }
 ],
 "metadata": {
  "kernelspec": {
   "display_name": "Python 3 (ipykernel)",
   "language": "python",
   "name": "python3"
  },
  "language_info": {
   "codemirror_mode": {
    "name": "ipython",
    "version": 3
   },
   "file_extension": ".py",
   "mimetype": "text/x-python",
   "name": "python",
   "nbconvert_exporter": "python",
   "pygments_lexer": "ipython3",
   "version": "3.12.1"
  }
 },
 "nbformat": 4,
 "nbformat_minor": 5
}
