{
 "cells": [
  {
   "cell_type": "markdown",
   "id": "94460a36-992a-45af-a14f-92bbfb2e3b0c",
   "metadata": {},
   "source": [
    "### Homework 4"
   ]
  },
  {
   "cell_type": "code",
   "execution_count": 1,
   "id": "af02e74d-8197-4957-96e4-b8bcbede2443",
   "metadata": {},
   "outputs": [],
   "source": [
    "import pandas as pd\n",
    "import numpy as np\n",
    "\n",
    "import matplotlib.pyplot as plt"
   ]
  },
  {
   "cell_type": "markdown",
   "id": "8470f0be-e2fd-4ba5-b792-606ab13c45d3",
   "metadata": {},
   "source": [
    "#### Data Preparation\n",
    "\n",
    "* Check if there are missing values  present in the features.\n",
    "* If there are missing values:\n",
    "  * For categorical features, replace them with 'NA'.\n",
    "  * For numerical features, replace with 0.0."
   ]
  },
  {
   "cell_type": "code",
   "execution_count": 2,
   "id": "ee60b4a7-2b00-4045-80eb-436194204f0f",
   "metadata": {},
   "outputs": [],
   "source": [
    "# Get the dataset. We will use the lead scoring dataset Bank Marketing dataset.\n",
    "\n",
    "data = \"https://raw.githubusercontent.com/alexeygrigorev/datasets/master/course_lead_scoring.csv\""
   ]
  },
  {
   "cell_type": "code",
   "execution_count": 3,
   "id": "c6a8d56c-d989-4deb-9a49-0b0db1213f69",
   "metadata": {},
   "outputs": [
    {
     "name": "stdout",
     "output_type": "stream",
     "text": [
      "--2025-10-22 10:03:46--  https://raw.githubusercontent.com/alexeygrigorev/datasets/master/course_lead_scoring.csv\n",
      "Resolving raw.githubusercontent.com (raw.githubusercontent.com)... 185.199.108.133, 185.199.109.133, 185.199.110.133, ...\n",
      "Connecting to raw.githubusercontent.com (raw.githubusercontent.com)|185.199.108.133|:443... connected.\n",
      "HTTP request sent, awaiting response... 200 OK\n",
      "Length: 80876 (79K) [text/plain]\n",
      "Saving to: ‘data-hw3.csv’\n",
      "\n",
      "data-hw3.csv        100%[===================>]  78.98K  --.-KB/s    in 0.002s  \n",
      "\n",
      "2025-10-22 10:03:46 (50.3 MB/s) - ‘data-hw3.csv’ saved [80876/80876]\n",
      "\n"
     ]
    }
   ],
   "source": [
    "!wget $data -O data-hw3.csv"
   ]
  },
  {
   "cell_type": "code",
   "execution_count": 4,
   "id": "3289c230-0f2d-4372-b21b-dd77c5474ca2",
   "metadata": {},
   "outputs": [
    {
     "data": {
      "text/html": [
       "<div>\n",
       "<style scoped>\n",
       "    .dataframe tbody tr th:only-of-type {\n",
       "        vertical-align: middle;\n",
       "    }\n",
       "\n",
       "    .dataframe tbody tr th {\n",
       "        vertical-align: top;\n",
       "    }\n",
       "\n",
       "    .dataframe thead th {\n",
       "        text-align: right;\n",
       "    }\n",
       "</style>\n",
       "<table border=\"1\" class=\"dataframe\">\n",
       "  <thead>\n",
       "    <tr style=\"text-align: right;\">\n",
       "      <th></th>\n",
       "      <th>lead_source</th>\n",
       "      <th>industry</th>\n",
       "      <th>number_of_courses_viewed</th>\n",
       "      <th>annual_income</th>\n",
       "      <th>employment_status</th>\n",
       "      <th>location</th>\n",
       "      <th>interaction_count</th>\n",
       "      <th>lead_score</th>\n",
       "      <th>converted</th>\n",
       "    </tr>\n",
       "  </thead>\n",
       "  <tbody>\n",
       "    <tr>\n",
       "      <th>0</th>\n",
       "      <td>paid_ads</td>\n",
       "      <td>NaN</td>\n",
       "      <td>1</td>\n",
       "      <td>79450.0</td>\n",
       "      <td>unemployed</td>\n",
       "      <td>south_america</td>\n",
       "      <td>4</td>\n",
       "      <td>0.94</td>\n",
       "      <td>1</td>\n",
       "    </tr>\n",
       "    <tr>\n",
       "      <th>1</th>\n",
       "      <td>social_media</td>\n",
       "      <td>retail</td>\n",
       "      <td>1</td>\n",
       "      <td>46992.0</td>\n",
       "      <td>employed</td>\n",
       "      <td>south_america</td>\n",
       "      <td>1</td>\n",
       "      <td>0.80</td>\n",
       "      <td>0</td>\n",
       "    </tr>\n",
       "    <tr>\n",
       "      <th>2</th>\n",
       "      <td>events</td>\n",
       "      <td>healthcare</td>\n",
       "      <td>5</td>\n",
       "      <td>78796.0</td>\n",
       "      <td>unemployed</td>\n",
       "      <td>australia</td>\n",
       "      <td>3</td>\n",
       "      <td>0.69</td>\n",
       "      <td>1</td>\n",
       "    </tr>\n",
       "    <tr>\n",
       "      <th>3</th>\n",
       "      <td>paid_ads</td>\n",
       "      <td>retail</td>\n",
       "      <td>2</td>\n",
       "      <td>83843.0</td>\n",
       "      <td>NaN</td>\n",
       "      <td>australia</td>\n",
       "      <td>1</td>\n",
       "      <td>0.87</td>\n",
       "      <td>0</td>\n",
       "    </tr>\n",
       "    <tr>\n",
       "      <th>4</th>\n",
       "      <td>referral</td>\n",
       "      <td>education</td>\n",
       "      <td>3</td>\n",
       "      <td>85012.0</td>\n",
       "      <td>self_employed</td>\n",
       "      <td>europe</td>\n",
       "      <td>3</td>\n",
       "      <td>0.62</td>\n",
       "      <td>1</td>\n",
       "    </tr>\n",
       "  </tbody>\n",
       "</table>\n",
       "</div>"
      ],
      "text/plain": [
       "    lead_source    industry  number_of_courses_viewed  annual_income  \\\n",
       "0      paid_ads         NaN                         1        79450.0   \n",
       "1  social_media      retail                         1        46992.0   \n",
       "2        events  healthcare                         5        78796.0   \n",
       "3      paid_ads      retail                         2        83843.0   \n",
       "4      referral   education                         3        85012.0   \n",
       "\n",
       "  employment_status       location  interaction_count  lead_score  converted  \n",
       "0        unemployed  south_america                  4        0.94          1  \n",
       "1          employed  south_america                  1        0.80          0  \n",
       "2        unemployed      australia                  3        0.69          1  \n",
       "3               NaN      australia                  1        0.87          0  \n",
       "4     self_employed         europe                  3        0.62          1  "
      ]
     },
     "execution_count": 4,
     "metadata": {},
     "output_type": "execute_result"
    }
   ],
   "source": [
    "df = pd.read_csv(\"data-hw3.csv\")\n",
    "df.head()"
   ]
  },
  {
   "cell_type": "code",
   "execution_count": 5,
   "id": "155ae00c-f2e0-4e15-8e86-cd40a18ce8ff",
   "metadata": {},
   "outputs": [
    {
     "data": {
      "text/plain": [
       "lead_source                  object\n",
       "industry                     object\n",
       "number_of_courses_viewed      int64\n",
       "annual_income               float64\n",
       "employment_status            object\n",
       "location                     object\n",
       "interaction_count             int64\n",
       "lead_score                  float64\n",
       "converted                     int64\n",
       "dtype: object"
      ]
     },
     "execution_count": 5,
     "metadata": {},
     "output_type": "execute_result"
    }
   ],
   "source": [
    "df.dtypes"
   ]
  },
  {
   "cell_type": "code",
   "execution_count": 6,
   "id": "0dfe9d01-e637-4712-bc32-310f21ff93da",
   "metadata": {},
   "outputs": [],
   "source": [
    "numerical = [ 'number_of_courses_viewed', 'annual_income', 'interaction_count', 'lead_score' ]"
   ]
  },
  {
   "cell_type": "code",
   "execution_count": 7,
   "id": "3ba4cebd-9e2d-4deb-a537-89cd0983ddf4",
   "metadata": {},
   "outputs": [],
   "source": [
    "categorical = [ 'lead_source', 'industry', 'employment_status', 'location' ] "
   ]
  },
  {
   "cell_type": "code",
   "execution_count": 8,
   "id": "d5fbec38-0562-4a95-b712-65c4dbb3420d",
   "metadata": {},
   "outputs": [
    {
     "data": {
      "text/plain": [
       "lead_source                 128\n",
       "industry                    134\n",
       "number_of_courses_viewed      0\n",
       "annual_income               181\n",
       "employment_status           100\n",
       "location                     63\n",
       "interaction_count             0\n",
       "lead_score                    0\n",
       "converted                     0\n",
       "dtype: int64"
      ]
     },
     "execution_count": 8,
     "metadata": {},
     "output_type": "execute_result"
    }
   ],
   "source": [
    "df.isnull().sum()"
   ]
  },
  {
   "cell_type": "code",
   "execution_count": 9,
   "id": "6f569cd3-d1cf-4b97-9534-f955acb91062",
   "metadata": {},
   "outputs": [],
   "source": [
    "# Fill missing values in categorical variables with 'NA'\n",
    "\n",
    "df['lead_source'] = df.lead_source.fillna('NA')\n",
    "df['industry'] = df.industry.fillna('NA')\n",
    "df['employment_status'] = df.employment_status.fillna('NA')\n",
    "df['location'] = df.location.fillna('NA')"
   ]
  },
  {
   "cell_type": "code",
   "execution_count": 10,
   "id": "df51c392-7d53-4565-9016-6a0e6346f28f",
   "metadata": {},
   "outputs": [],
   "source": [
    "# Fill missing values in numerical variables with 0.0\n",
    "\n",
    "df['annual_income'] = df.annual_income.fillna(0.0)"
   ]
  },
  {
   "cell_type": "code",
   "execution_count": 11,
   "id": "d3c1170f-d343-4b90-8559-3626f3b2525b",
   "metadata": {},
   "outputs": [
    {
     "data": {
      "text/plain": [
       "lead_source                 0\n",
       "industry                    0\n",
       "number_of_courses_viewed    0\n",
       "annual_income               0\n",
       "employment_status           0\n",
       "location                    0\n",
       "interaction_count           0\n",
       "lead_score                  0\n",
       "converted                   0\n",
       "dtype: int64"
      ]
     },
     "execution_count": 11,
     "metadata": {},
     "output_type": "execute_result"
    }
   ],
   "source": [
    "# Check again for missing values in all variables\n",
    "\n",
    "df.isnull().sum()"
   ]
  },
  {
   "cell_type": "markdown",
   "id": "190d7a2d-43d5-4e89-bb96-d0416e11418f",
   "metadata": {},
   "source": [
    "#### Dataset Split\n",
    "\n",
    "Split the data into 3 parts: train/validation/test with 60%/20%/20% distribution. Use train_test_split function for that with random_state=1."
   ]
  },
  {
   "cell_type": "code",
   "execution_count": 12,
   "id": "b741798b-d13b-4901-a41d-cf2e81f23954",
   "metadata": {},
   "outputs": [],
   "source": [
    "from sklearn.model_selection import train_test_split"
   ]
  },
  {
   "cell_type": "code",
   "execution_count": 13,
   "id": "594eb471-34bf-456b-bbc5-2efe60020823",
   "metadata": {},
   "outputs": [],
   "source": [
    "df_full_train, df_test = train_test_split(df, test_size=0.2, random_state=1)\n",
    "df_train, df_val = train_test_split(df_full_train, test_size=0.25, random_state=1)"
   ]
  },
  {
   "cell_type": "code",
   "execution_count": 14,
   "id": "1c653d94-a91b-42cb-9fba-2253e101cf27",
   "metadata": {},
   "outputs": [
    {
     "data": {
      "text/plain": [
       "(876, 293, 293)"
      ]
     },
     "execution_count": 14,
     "metadata": {},
     "output_type": "execute_result"
    }
   ],
   "source": [
    "len(df_train), len(df_val), len(df_test)"
   ]
  },
  {
   "cell_type": "code",
   "execution_count": 15,
   "id": "24b429d8-881d-43e0-af73-b8d6b9f8b645",
   "metadata": {},
   "outputs": [
    {
     "data": {
      "text/plain": [
       "(1462, 1462, 292.40000000000003, 877.1999999999999)"
      ]
     },
     "execution_count": 15,
     "metadata": {},
     "output_type": "execute_result"
    }
   ],
   "source": [
    "876+293+293, len(df), 0.2*len(df), 0.6*len(df)"
   ]
  },
  {
   "cell_type": "code",
   "execution_count": 16,
   "id": "fe2b6d25-f6e1-4e5c-973c-9e457762a8bc",
   "metadata": {},
   "outputs": [],
   "source": [
    "df_train = df_train.reset_index(drop=True)\n",
    "df_val = df_val.reset_index(drop=True)\n",
    "df_test = df_test.reset_index(drop=True)"
   ]
  },
  {
   "cell_type": "code",
   "execution_count": 17,
   "id": "b0209a08-82d0-4dd7-ac38-b5e1aa8f1088",
   "metadata": {},
   "outputs": [],
   "source": [
    "y_train = df_train.converted.values\n",
    "y_val = df_val.converted.values\n",
    "y_test = df_test.converted.values\n",
    "\n",
    "del df_train['converted']\n",
    "del df_val['converted']\n",
    "del df_test['converted']"
   ]
  },
  {
   "cell_type": "code",
   "execution_count": 18,
   "id": "9904f07a-2f70-4ad9-a32b-53192e3a20e9",
   "metadata": {},
   "outputs": [
    {
     "data": {
      "text/plain": [
       "Index(['lead_source', 'industry', 'number_of_courses_viewed', 'annual_income',\n",
       "       'employment_status', 'location', 'interaction_count', 'lead_score'],\n",
       "      dtype='object')"
      ]
     },
     "execution_count": 18,
     "metadata": {},
     "output_type": "execute_result"
    }
   ],
   "source": [
    "# Check that 'converted' is not in the features set\n",
    "df_train.columns"
   ]
  },
  {
   "cell_type": "markdown",
   "id": "408ffdd3-6091-40ce-8d62-cd8720abfe27",
   "metadata": {},
   "source": [
    "#### Question 1: ROC AUC Feature Importance\n",
    "\n",
    "ROC AUC could also be used to evaluate feature importance.\n",
    "\n",
    "* For each numerical variable, use it as score (aka prediction) and compute the AUC with the y variable as ground truth.\n",
    "* Use the training dataset for that."
   ]
  },
  {
   "cell_type": "code",
   "execution_count": 20,
   "id": "eb477cab-7b0e-4a34-81f2-f181e9a0c54d",
   "metadata": {},
   "outputs": [],
   "source": [
    "from sklearn.metrics import roc_auc_score"
   ]
  },
  {
   "cell_type": "code",
   "execution_count": 21,
   "id": "e94b2fa1-a1bb-4322-bc7a-13a362d52900",
   "metadata": {},
   "outputs": [
    {
     "data": {
      "text/plain": [
       "['number_of_courses_viewed',\n",
       " 'annual_income',\n",
       " 'interaction_count',\n",
       " 'lead_score']"
      ]
     },
     "execution_count": 21,
     "metadata": {},
     "output_type": "execute_result"
    }
   ],
   "source": [
    "numerical"
   ]
  },
  {
   "cell_type": "code",
   "execution_count": 22,
   "id": "6cef262b-f741-48d2-961c-9538f96a34d4",
   "metadata": {},
   "outputs": [
    {
     "data": {
      "text/plain": [
       "0.6144993577250176"
      ]
     },
     "execution_count": 22,
     "metadata": {},
     "output_type": "execute_result"
    }
   ],
   "source": [
    "roc_auc_score(y_train, df_train['lead_score'])"
   ]
  },
  {
   "cell_type": "code",
   "execution_count": 23,
   "id": "14bfe536-6d75-48e4-94a1-fe973faa70cf",
   "metadata": {},
   "outputs": [
    {
     "data": {
      "text/plain": [
       "0.7635680590007088"
      ]
     },
     "execution_count": 23,
     "metadata": {},
     "output_type": "execute_result"
    }
   ],
   "source": [
    "roc_auc_score(y_train, df_train['number_of_courses_viewed'])"
   ]
  },
  {
   "cell_type": "code",
   "execution_count": 24,
   "id": "5d574120-bfd1-49a6-8600-d909924f9ca3",
   "metadata": {},
   "outputs": [
    {
     "data": {
      "text/plain": [
       "0.738270176293409"
      ]
     },
     "execution_count": 24,
     "metadata": {},
     "output_type": "execute_result"
    }
   ],
   "source": [
    "roc_auc_score(y_train, df_train['interaction_count'])"
   ]
  },
  {
   "cell_type": "code",
   "execution_count": 25,
   "id": "6bf1c8d8-95a7-4248-b177-d07d5502bfba",
   "metadata": {},
   "outputs": [
    {
     "data": {
      "text/plain": [
       "0.5519578313253012"
      ]
     },
     "execution_count": 25,
     "metadata": {},
     "output_type": "execute_result"
    }
   ],
   "source": [
    "roc_auc_score(y_train, df_train['annual_income'])"
   ]
  },
  {
   "cell_type": "code",
   "execution_count": 27,
   "id": "ded405f3-0113-4b60-9584-8e666e82bfa4",
   "metadata": {},
   "outputs": [],
   "source": [
    "# Which numerical variable has the highest AUC? 'number_of_courses_viewed'"
   ]
  },
  {
   "cell_type": "markdown",
   "id": "cb24667f-77be-42a6-8e8a-8b0d72eb0bb2",
   "metadata": {},
   "source": [
    "#### Question 2: Training the model\n",
    "\n",
    "Apply one-hot-encoding using DictVectorizer and train the logistic regression with these parameters:\n",
    "\n",
    "logisticRegression(solver='liblinear', C=1.0, max_iter=1000)"
   ]
  },
  {
   "cell_type": "code",
   "execution_count": null,
   "id": "ab47cf34-949e-4953-b3c4-83794bc9b81b",
   "metadata": {},
   "outputs": [],
   "source": []
  }
 ],
 "metadata": {
  "kernelspec": {
   "display_name": "Python 3 (ipykernel)",
   "language": "python",
   "name": "python3"
  },
  "language_info": {
   "codemirror_mode": {
    "name": "ipython",
    "version": 3
   },
   "file_extension": ".py",
   "mimetype": "text/x-python",
   "name": "python",
   "nbconvert_exporter": "python",
   "pygments_lexer": "ipython3",
   "version": "3.12.1"
  }
 },
 "nbformat": 4,
 "nbformat_minor": 5
}
